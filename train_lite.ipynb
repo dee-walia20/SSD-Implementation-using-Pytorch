{
 "cells": [
  {
   "cell_type": "code",
   "execution_count": 13,
   "metadata": {},
   "outputs": [],
   "source": [
    "import time\n",
    "import torch.backends.cudnn as cudnn\n",
    "import torch.optim\n",
    "import torch.utils.data\n",
    "from model import SSD300, MultiBoxLoss\n",
    "from datasets import PascalVOCDataset\n",
    "from utils import *"
   ]
  },
  {
   "cell_type": "code",
   "execution_count": 14,
   "metadata": {},
   "outputs": [],
   "source": [
    "# Data parameters\n",
    "data_folder = './'  # folder with data files\n",
    "keep_difficult = True  # use objects considered difficult to detect?\n",
    "\n",
    "# Model parameters\n",
    "# Not too many here since the SSD300 has a very specific structure\n",
    "n_classes = len(label_map)  # number of different types of objects\n",
    "device = torch.device(\"cuda\" if torch.cuda.is_available() else \"cpu\")"
   ]
  },
  {
   "cell_type": "code",
   "execution_count": 15,
   "metadata": {},
   "outputs": [],
   "source": [
    "# Learning parameters\n",
    "checkpoint = [file for file in os.listdir() if file.endswith('.tar')]  # path to model checkpoint, None if none\n",
    "batch_size = 8  # batch size\n",
    "workers = 2  # number of workers for loading data in the DataLoader\n",
    "print_freq = 200  # print training status every __ batches\n",
    "lr = 1e-4  # learning rate\n",
    "interval=10 #How many epochs to run at a time\n",
    "weight_decay = 1e-4 #weight decay (L2 penalty)\n",
    "\n",
    "cudnn.benchmark = True"
   ]
  },
  {
   "cell_type": "code",
   "execution_count": 17,
   "metadata": {},
   "outputs": [],
   "source": [
    "def train(train_loader, model, criterion, optimizer, epoch):\n",
    "    \"\"\"\n",
    "    One epoch's training.\n",
    "\n",
    "    :param train_loader: DataLoader for training data\n",
    "    :param model: model\n",
    "    :param criterion: MultiBox loss\n",
    "    :param optimizer: optimizer\n",
    "    :param epoch: epoch number\n",
    "    \"\"\"\n",
    "    model.train()  # training mode enables dropout\n",
    "\n",
    "    batch_time = AverageMeter()  # forward prop. + back prop. time\n",
    "    data_time = AverageMeter()  # data loading time\n",
    "    losses = AverageMeter()  # loss\n",
    "\n",
    "    start = time.time()\n",
    "\n",
    "    # Batches\n",
    "    for i, (images, boxes, labels, _) in enumerate(train_loader):\n",
    "        data_time.update(time.time() - start)\n",
    "\n",
    "        # Move to default device\n",
    "        images = images.to(device)  # (batch_size (N), 3, 300, 300)\n",
    "        boxes = [b.to(device) for b in boxes]\n",
    "        labels = [l.to(device) for l in labels]\n",
    "\n",
    "        # Forward prop.\n",
    "        predicted_locs, predicted_scores = model(images)  # (N, 8732, 4), (N, 8732, n_classes)\n",
    "\n",
    "        # Loss\n",
    "        loss = criterion(predicted_locs, predicted_scores, boxes, labels)  # scalar\n",
    "\n",
    "        # Backward prop.\n",
    "        optimizer.zero_grad()\n",
    "        loss.backward()\n",
    "\n",
    "        # Update model\n",
    "        optimizer.step()\n",
    "\n",
    "        losses.update(loss.item(), images.size(0))\n",
    "        batch_time.update(time.time() - start)\n",
    "\n",
    "        start = time.time()\n",
    "\n",
    "        # Print status\n",
    "        if i % print_freq == 0:\n",
    "            print('Epoch: [{0}][{1}/{2}]\\t'\n",
    "                  'Batch Time {batch_time.val:.3f} ({batch_time.avg:.3f})\\t'\n",
    "                  'Data Time {data_time.val:.3f} ({data_time.avg:.3f})\\t'\n",
    "                  'Loss {loss.val:.4f} ({loss.avg:.4f})\\t'.format(epoch, i, len(train_loader),\n",
    "                                                                  batch_time=batch_time,\n",
    "                                                                  data_time=data_time, loss=losses))\n",
    "        if i == len(train_loader)-1:\n",
    "            print(\"*************************************************\")\n",
    "            print('Epoch: {num}\\t'\n",
    "                  'Loss: {loss.avg:.4f}\\t'.format(num=epoch+1,loss=losses))\n",
    "            print(\"************************************************\")\n",
    "    del predicted_locs, predicted_scores, images, boxes, labels  # free some memory since their histories may be stored\n"
   ]
  },
  {
   "cell_type": "code",
   "execution_count": 18,
   "metadata": {
    "tags": []
   },
   "outputs": [
    {
     "output_type": "stream",
     "name": "stdout",
     "text": "\nLoaded checkpoint from epoch 90.\n\nEpoch: [90][0/2069]\tBatch Time 1.824 (1.824)\tData Time 1.474 (1.474)\tLoss 1.4282 (1.4282)\t\nEpoch: [90][200/2069]\tBatch Time 0.365 (0.368)\tData Time 0.001 (0.008)\tLoss 1.9816 (2.3876)\t\nEpoch: [90][400/2069]\tBatch Time 0.368 (0.368)\tData Time 0.001 (0.004)\tLoss 2.1730 (2.4216)\t\nEpoch: [90][600/2069]\tBatch Time 0.377 (0.369)\tData Time 0.001 (0.003)\tLoss 2.2886 (2.4271)\t\nEpoch: [90][800/2069]\tBatch Time 0.375 (0.371)\tData Time 0.000 (0.002)\tLoss 1.6009 (2.4391)\t\nEpoch: [90][1000/2069]\tBatch Time 0.379 (0.372)\tData Time 0.001 (0.002)\tLoss 2.1774 (2.4392)\t\nEpoch: [90][1200/2069]\tBatch Time 0.377 (0.373)\tData Time 0.001 (0.002)\tLoss 2.6392 (2.4256)\t\nEpoch: [90][1400/2069]\tBatch Time 0.381 (0.375)\tData Time 0.001 (0.002)\tLoss 2.4821 (2.4262)\t\nEpoch: [90][1600/2069]\tBatch Time 0.389 (0.376)\tData Time 0.001 (0.001)\tLoss 2.4958 (2.4336)\t\nEpoch: [90][1800/2069]\tBatch Time 0.396 (0.377)\tData Time 0.001 (0.001)\tLoss 2.6324 (2.4311)\t\nEpoch: [90][2000/2069]\tBatch Time 0.379 (0.378)\tData Time 0.000 (0.001)\tLoss 2.6869 (2.4351)\t\n*************************************************\nEpoch: 91\tLoss: 2.4347\t\n************************************************\nEpoch: [91][0/2069]\tBatch Time 2.137 (2.137)\tData Time 1.752 (1.752)\tLoss 2.7527 (2.7527)\t\nEpoch: [91][200/2069]\tBatch Time 0.372 (0.393)\tData Time 0.000 (0.009)\tLoss 2.1633 (2.4521)\t\nEpoch: [91][400/2069]\tBatch Time 0.373 (0.390)\tData Time 0.001 (0.005)\tLoss 2.1478 (2.4747)\t\nEpoch: [91][600/2069]\tBatch Time 0.382 (0.388)\tData Time 0.000 (0.003)\tLoss 2.6891 (2.4867)\t\nEpoch: [91][800/2069]\tBatch Time 0.383 (0.387)\tData Time 0.000 (0.003)\tLoss 2.7608 (2.4777)\t\nEpoch: [91][1000/2069]\tBatch Time 0.403 (0.387)\tData Time 0.000 (0.002)\tLoss 2.1425 (2.4717)\t\nEpoch: [91][1200/2069]\tBatch Time 0.383 (0.387)\tData Time 0.002 (0.002)\tLoss 2.2942 (2.4642)\t\nEpoch: [91][1400/2069]\tBatch Time 0.392 (0.387)\tData Time 0.000 (0.002)\tLoss 3.1925 (2.4638)\t\nEpoch: [91][1600/2069]\tBatch Time 0.399 (0.387)\tData Time 0.000 (0.002)\tLoss 1.4771 (2.4593)\t\nEpoch: [91][1800/2069]\tBatch Time 0.380 (0.387)\tData Time 0.000 (0.002)\tLoss 1.7609 (2.4594)\t\nEpoch: [91][2000/2069]\tBatch Time 0.386 (0.387)\tData Time 0.000 (0.001)\tLoss 2.2463 (2.4580)\t\n*************************************************\nEpoch: 92\tLoss: 2.4618\t\n************************************************\nEpoch: [92][0/2069]\tBatch Time 1.736 (1.736)\tData Time 1.346 (1.346)\tLoss 2.8019 (2.8019)\t\nEpoch: [92][200/2069]\tBatch Time 0.395 (0.393)\tData Time 0.001 (0.007)\tLoss 2.3717 (2.4430)\t\nEpoch: [92][400/2069]\tBatch Time 0.384 (0.390)\tData Time 0.000 (0.004)\tLoss 2.6364 (2.4600)\t\nEpoch: [92][600/2069]\tBatch Time 0.395 (0.390)\tData Time 0.001 (0.003)\tLoss 1.9008 (2.4439)\t\nEpoch: [92][800/2069]\tBatch Time 0.398 (0.389)\tData Time 0.002 (0.002)\tLoss 2.0160 (2.4378)\t\nEpoch: [92][1000/2069]\tBatch Time 0.382 (0.389)\tData Time 0.000 (0.002)\tLoss 2.5687 (2.4449)\t\nEpoch: [92][1200/2069]\tBatch Time 0.403 (0.388)\tData Time 0.000 (0.002)\tLoss 2.1704 (2.4488)\t\nEpoch: [92][1400/2069]\tBatch Time 0.396 (0.388)\tData Time 0.001 (0.002)\tLoss 2.4384 (2.4427)\t\nEpoch: [92][1600/2069]\tBatch Time 0.404 (0.388)\tData Time 0.001 (0.001)\tLoss 1.6164 (2.4410)\t\nEpoch: [92][1800/2069]\tBatch Time 0.399 (0.388)\tData Time 0.001 (0.001)\tLoss 2.6908 (2.4490)\t\nEpoch: [92][2000/2069]\tBatch Time 0.376 (0.388)\tData Time 0.002 (0.001)\tLoss 2.6071 (2.4502)\t\n*************************************************\nEpoch: 93\tLoss: 2.4508\t\n************************************************\nEpoch: [93][0/2069]\tBatch Time 1.769 (1.769)\tData Time 1.369 (1.369)\tLoss 2.6318 (2.6318)\t\nEpoch: [93][200/2069]\tBatch Time 0.389 (0.393)\tData Time 0.000 (0.007)\tLoss 2.0752 (2.4657)\t\nEpoch: [93][400/2069]\tBatch Time 0.393 (0.390)\tData Time 0.000 (0.004)\tLoss 2.7158 (2.4330)\t\nEpoch: [93][600/2069]\tBatch Time 0.388 (0.389)\tData Time 0.000 (0.003)\tLoss 2.5470 (2.4207)\t\nEpoch: [93][800/2069]\tBatch Time 0.381 (0.388)\tData Time 0.000 (0.002)\tLoss 2.6340 (2.4341)\t\nEpoch: [93][1000/2069]\tBatch Time 0.394 (0.388)\tData Time 0.001 (0.002)\tLoss 2.2692 (2.4357)\t\nEpoch: [93][1200/2069]\tBatch Time 0.380 (0.388)\tData Time 0.000 (0.002)\tLoss 2.0397 (2.4389)\t\nEpoch: [93][1400/2069]\tBatch Time 0.397 (0.388)\tData Time 0.000 (0.002)\tLoss 2.1875 (2.4436)\t\nEpoch: [93][1600/2069]\tBatch Time 0.381 (0.387)\tData Time 0.000 (0.001)\tLoss 2.7394 (2.4543)\t\nEpoch: [93][1800/2069]\tBatch Time 0.375 (0.387)\tData Time 0.000 (0.001)\tLoss 2.5809 (2.4480)\t\nEpoch: [93][2000/2069]\tBatch Time 0.384 (0.387)\tData Time 0.000 (0.001)\tLoss 2.8285 (2.4546)\t\n*************************************************\nEpoch: 94\tLoss: 2.4527\t\n************************************************\nEpoch: [94][0/2069]\tBatch Time 1.829 (1.829)\tData Time 1.452 (1.452)\tLoss 2.6879 (2.6879)\t\nEpoch: [94][200/2069]\tBatch Time 0.379 (0.394)\tData Time 0.000 (0.008)\tLoss 1.9513 (2.4705)\t\nEpoch: [94][400/2069]\tBatch Time 0.389 (0.390)\tData Time 0.001 (0.004)\tLoss 2.3200 (2.4470)\t\nEpoch: [94][600/2069]\tBatch Time 0.399 (0.389)\tData Time 0.000 (0.003)\tLoss 2.8003 (2.4586)\t\nEpoch: [94][800/2069]\tBatch Time 0.389 (0.389)\tData Time 0.000 (0.002)\tLoss 2.8444 (2.4394)\t\nEpoch: [94][1000/2069]\tBatch Time 0.387 (0.388)\tData Time 0.001 (0.002)\tLoss 2.7460 (2.4422)\t\nEpoch: [94][1200/2069]\tBatch Time 0.386 (0.388)\tData Time 0.000 (0.002)\tLoss 3.0094 (2.4348)\t\nEpoch: [94][1400/2069]\tBatch Time 0.370 (0.388)\tData Time 0.000 (0.002)\tLoss 1.7743 (2.4319)\t\nEpoch: [94][1600/2069]\tBatch Time 0.399 (0.388)\tData Time 0.000 (0.001)\tLoss 2.8360 (2.4374)\t\nEpoch: [94][1800/2069]\tBatch Time 0.382 (0.388)\tData Time 0.001 (0.001)\tLoss 2.2577 (2.4422)\t\nEpoch: [94][2000/2069]\tBatch Time 0.393 (0.388)\tData Time 0.000 (0.001)\tLoss 2.3244 (2.4318)\t\n*************************************************\nEpoch: 95\tLoss: 2.4306\t\n************************************************\nEpoch: [95][0/2069]\tBatch Time 1.920 (1.920)\tData Time 1.540 (1.540)\tLoss 2.2727 (2.2727)\t\nEpoch: [95][200/2069]\tBatch Time 0.381 (0.393)\tData Time 0.000 (0.008)\tLoss 2.7798 (2.4544)\t\nEpoch: [95][400/2069]\tBatch Time 0.394 (0.390)\tData Time 0.001 (0.004)\tLoss 2.7655 (2.4732)\t\nEpoch: [95][600/2069]\tBatch Time 0.399 (0.389)\tData Time 0.001 (0.003)\tLoss 1.7767 (2.4504)\t\nEpoch: [95][800/2069]\tBatch Time 0.382 (0.389)\tData Time 0.001 (0.002)\tLoss 2.7635 (2.4617)\t\nEpoch: [95][1000/2069]\tBatch Time 0.390 (0.388)\tData Time 0.001 (0.002)\tLoss 2.5702 (2.4579)\t\nEpoch: [95][1200/2069]\tBatch Time 0.384 (0.388)\tData Time 0.000 (0.002)\tLoss 2.2633 (2.4554)\t\nEpoch: [95][1400/2069]\tBatch Time 0.387 (0.388)\tData Time 0.001 (0.002)\tLoss 2.4021 (2.4594)\t\nEpoch: [95][1600/2069]\tBatch Time 0.392 (0.388)\tData Time 0.001 (0.001)\tLoss 2.7510 (2.4676)\t\nEpoch: [95][1800/2069]\tBatch Time 0.391 (0.388)\tData Time 0.001 (0.001)\tLoss 2.1196 (2.4660)\t\nEpoch: [95][2000/2069]\tBatch Time 0.384 (0.388)\tData Time 0.001 (0.001)\tLoss 2.3523 (2.4557)\t\n*************************************************\nEpoch: 96\tLoss: 2.4530\t\n************************************************\nEpoch: [96][0/2069]\tBatch Time 1.835 (1.835)\tData Time 1.444 (1.444)\tLoss 2.4962 (2.4962)\t\nEpoch: [96][200/2069]\tBatch Time 0.395 (0.393)\tData Time 0.001 (0.008)\tLoss 2.2770 (2.4223)\t\nEpoch: [96][400/2069]\tBatch Time 0.397 (0.390)\tData Time 0.002 (0.004)\tLoss 2.4523 (2.4281)\t\nEpoch: [96][600/2069]\tBatch Time 0.385 (0.390)\tData Time 0.001 (0.003)\tLoss 2.2575 (2.4399)\t\nEpoch: [96][800/2069]\tBatch Time 0.401 (0.389)\tData Time 0.001 (0.002)\tLoss 2.7120 (2.4420)\t\nEpoch: [96][1000/2069]\tBatch Time 0.397 (0.389)\tData Time 0.000 (0.002)\tLoss 1.7787 (2.4453)\t\nEpoch: [96][1200/2069]\tBatch Time 0.385 (0.389)\tData Time 0.000 (0.002)\tLoss 1.8531 (2.4499)\t\nEpoch: [96][1400/2069]\tBatch Time 0.380 (0.389)\tData Time 0.000 (0.002)\tLoss 2.2784 (2.4417)\t\nEpoch: [96][1600/2069]\tBatch Time 0.384 (0.389)\tData Time 0.001 (0.001)\tLoss 1.2361 (2.4417)\t\nEpoch: [96][1800/2069]\tBatch Time 0.401 (0.388)\tData Time 0.001 (0.001)\tLoss 3.3173 (2.4388)\t\nEpoch: [96][2000/2069]\tBatch Time 0.386 (0.388)\tData Time 0.001 (0.001)\tLoss 1.8735 (2.4407)\t\n*************************************************\nEpoch: 97\tLoss: 2.4397\t\n************************************************\nEpoch: [97][0/2069]\tBatch Time 1.774 (1.774)\tData Time 1.401 (1.401)\tLoss 3.3062 (3.3062)\t\nEpoch: [97][200/2069]\tBatch Time 0.388 (0.394)\tData Time 0.001 (0.007)\tLoss 2.7801 (2.4280)\t\nEpoch: [97][400/2069]\tBatch Time 0.379 (0.391)\tData Time 0.000 (0.004)\tLoss 2.2332 (2.3910)\t\nEpoch: [97][600/2069]\tBatch Time 0.388 (0.390)\tData Time 0.001 (0.003)\tLoss 2.2866 (2.3919)\t\nEpoch: [97][800/2069]\tBatch Time 0.378 (0.390)\tData Time 0.000 (0.002)\tLoss 2.4816 (2.4145)\t\nEpoch: [97][1000/2069]\tBatch Time 0.384 (0.389)\tData Time 0.000 (0.002)\tLoss 3.1292 (2.4220)\t\nEpoch: [97][1200/2069]\tBatch Time 0.396 (0.389)\tData Time 0.002 (0.002)\tLoss 2.3184 (2.4228)\t\nEpoch: [97][1400/2069]\tBatch Time 0.398 (0.389)\tData Time 0.001 (0.001)\tLoss 2.6912 (2.4156)\t\nEpoch: [97][1600/2069]\tBatch Time 0.382 (0.389)\tData Time 0.001 (0.001)\tLoss 2.5872 (2.4205)\t\nEpoch: [97][1800/2069]\tBatch Time 0.380 (0.389)\tData Time 0.001 (0.001)\tLoss 2.4880 (2.4202)\t\nEpoch: [97][2000/2069]\tBatch Time 0.372 (0.389)\tData Time 0.001 (0.001)\tLoss 2.5654 (2.4244)\t\n*************************************************\nEpoch: 98\tLoss: 2.4256\t\n************************************************\nEpoch: [98][0/2069]\tBatch Time 1.815 (1.815)\tData Time 1.426 (1.426)\tLoss 2.2602 (2.2602)\t\nEpoch: [98][200/2069]\tBatch Time 0.403 (0.394)\tData Time 0.000 (0.008)\tLoss 2.1999 (2.3897)\t\nEpoch: [98][400/2069]\tBatch Time 0.400 (0.391)\tData Time 0.002 (0.004)\tLoss 3.3140 (2.3703)\t\nEpoch: [98][600/2069]\tBatch Time 0.376 (0.390)\tData Time 0.000 (0.003)\tLoss 1.5738 (2.4066)\t\nEpoch: [98][800/2069]\tBatch Time 0.394 (0.390)\tData Time 0.000 (0.002)\tLoss 2.2124 (2.4133)\t\nEpoch: [98][1000/2069]\tBatch Time 0.397 (0.389)\tData Time 0.001 (0.002)\tLoss 2.6687 (2.4085)\t\nEpoch: [98][1200/2069]\tBatch Time 0.400 (0.389)\tData Time 0.001 (0.002)\tLoss 2.2886 (2.4144)\t\nEpoch: [98][1400/2069]\tBatch Time 0.393 (0.389)\tData Time 0.002 (0.002)\tLoss 2.8783 (2.4183)\t\nEpoch: [98][1600/2069]\tBatch Time 0.397 (0.389)\tData Time 0.001 (0.001)\tLoss 2.1201 (2.4243)\t\nEpoch: [98][1800/2069]\tBatch Time 0.396 (0.389)\tData Time 0.000 (0.001)\tLoss 2.2374 (2.4242)\t\nEpoch: [98][2000/2069]\tBatch Time 0.401 (0.389)\tData Time 0.001 (0.001)\tLoss 2.9463 (2.4255)\t\n*************************************************\nEpoch: 99\tLoss: 2.4254\t\n************************************************\nEpoch: [99][0/2069]\tBatch Time 2.012 (2.012)\tData Time 1.624 (1.624)\tLoss 2.8202 (2.8202)\t\nEpoch: [99][200/2069]\tBatch Time 0.365 (0.395)\tData Time 0.001 (0.009)\tLoss 1.9770 (2.3903)\t\nEpoch: [99][400/2069]\tBatch Time 0.399 (0.391)\tData Time 0.000 (0.005)\tLoss 1.8431 (2.3747)\t\nEpoch: [99][600/2069]\tBatch Time 0.390 (0.390)\tData Time 0.000 (0.003)\tLoss 3.3893 (2.4054)\t\nEpoch: [99][800/2069]\tBatch Time 0.391 (0.389)\tData Time 0.000 (0.003)\tLoss 1.9560 (2.4153)\t\nEpoch: [99][1000/2069]\tBatch Time 0.378 (0.389)\tData Time 0.001 (0.002)\tLoss 2.5113 (2.4159)\t\nEpoch: [99][1200/2069]\tBatch Time 0.384 (0.389)\tData Time 0.001 (0.002)\tLoss 2.1931 (2.4243)\t\nEpoch: [99][1400/2069]\tBatch Time 0.389 (0.388)\tData Time 0.001 (0.002)\tLoss 1.9816 (2.4247)\t\nEpoch: [99][1600/2069]\tBatch Time 0.372 (0.388)\tData Time 0.001 (0.002)\tLoss 2.3701 (2.4266)\t\nEpoch: [99][1800/2069]\tBatch Time 0.391 (0.388)\tData Time 0.000 (0.001)\tLoss 1.8556 (2.4264)\t\nEpoch: [99][2000/2069]\tBatch Time 0.380 (0.388)\tData Time 0.000 (0.001)\tLoss 2.9513 (2.4327)\t\n*************************************************\nEpoch: 100\tLoss: 2.4308\t\n************************************************\n"
    }
   ],
   "source": [
    "\n",
    "\"\"\"\n",
    "Training.\n",
    "\"\"\"\n",
    "# Initialize model or load checkpoint\n",
    "if not checkpoint:    \n",
    "    create_data_lists(voc07_path='VOC2007', voc12_path='VOC2012',output_folder='./')\n",
    "\n",
    "    start_epoch = 0\n",
    "    model = SSD300(n_classes=n_classes)\n",
    "\n",
    "    param_list = list()\n",
    "    for param_name, param in model.named_parameters():\n",
    "            if param.requires_grad:\n",
    "                #print(param_name)\n",
    "                param_list.append(param)\n",
    "                \n",
    "    optimizer=torch.optim.Adam(params=param_list,lr=lr,weight_decay=weight_decay)\n",
    "    epochs=interval\n",
    "    \n",
    "else:\n",
    "    checkpoint = torch.load(checkpoint[0])\n",
    "    start_epoch = checkpoint['epoch'] + 1\n",
    "    print('\\nLoaded checkpoint from epoch %d.\\n' % start_epoch)\n",
    "    model = checkpoint['model']\n",
    "    optimizer = checkpoint['optimizer']\n",
    "\n",
    "    epochs = checkpoint['epoch'] + interval +1 #Training 10 epochs at a time\n",
    "\n",
    "# Move to default device\n",
    "model = model.to(device)\n",
    "criterion = MultiBoxLoss(priors_cxcy=model.priors_cxcy).to(device)\n",
    "\n",
    "# Custom dataloaders\n",
    "train_dataset = PascalVOCDataset(data_folder,\n",
    "                                 split='train',\n",
    "                                 keep_difficult=keep_difficult)\n",
    "train_loader = torch.utils.data.DataLoader(train_dataset, batch_size=batch_size, shuffle=True,\n",
    "                                           collate_fn=train_dataset.collate_fn, num_workers=workers,\n",
    "                                           pin_memory=True)  # note that we're passing the collate function here\n",
    "\n",
    "#epochs = checkpoint['epoch'] + 11 #Training 10 epochs at a time\n",
    "\n",
    "# Epochs\n",
    "for epoch in range(start_epoch, epochs):\n",
    "\n",
    "    # One epoch's training\n",
    "    train(train_loader=train_loader,\n",
    "          model=model,\n",
    "          criterion=criterion,\n",
    "          optimizer=optimizer,\n",
    "          epoch=epoch)\n",
    "\n",
    "    # Save checkpoint\n",
    "    save_checkpoint(epoch, model, optimizer)"
   ]
  },
  {
   "cell_type": "code",
   "execution_count": null,
   "metadata": {},
   "outputs": [],
   "source": []
  },
  {
   "cell_type": "code",
   "execution_count": null,
   "metadata": {},
   "outputs": [],
   "source": []
  },
  {
   "cell_type": "code",
   "execution_count": null,
   "metadata": {},
   "outputs": [],
   "source": []
  },
  {
   "cell_type": "code",
   "execution_count": null,
   "metadata": {},
   "outputs": [],
   "source": []
  },
  {
   "cell_type": "code",
   "execution_count": null,
   "metadata": {},
   "outputs": [],
   "source": []
  },
  {
   "cell_type": "code",
   "execution_count": null,
   "metadata": {},
   "outputs": [],
   "source": []
  },
  {
   "cell_type": "code",
   "execution_count": null,
   "metadata": {},
   "outputs": [],
   "source": []
  },
  {
   "cell_type": "code",
   "execution_count": null,
   "metadata": {},
   "outputs": [],
   "source": []
  },
  {
   "cell_type": "code",
   "execution_count": null,
   "metadata": {},
   "outputs": [],
   "source": []
  },
  {
   "cell_type": "code",
   "execution_count": null,
   "metadata": {},
   "outputs": [],
   "source": []
  },
  {
   "cell_type": "code",
   "execution_count": null,
   "metadata": {},
   "outputs": [],
   "source": []
  },
  {
   "cell_type": "code",
   "execution_count": null,
   "metadata": {},
   "outputs": [],
   "source": []
  },
  {
   "cell_type": "code",
   "execution_count": null,
   "metadata": {},
   "outputs": [],
   "source": []
  }
 ],
 "metadata": {
  "kernelspec": {
   "display_name": "Python 3",
   "language": "python",
   "name": "python3"
  },
  "language_info": {
   "codemirror_mode": {
    "name": "ipython",
    "version": 3
   },
   "file_extension": ".py",
   "mimetype": "text/x-python",
   "name": "python",
   "nbconvert_exporter": "python",
   "pygments_lexer": "ipython3",
   "version": "3.7.7"
  }
 },
 "nbformat": 4,
 "nbformat_minor": 4
}